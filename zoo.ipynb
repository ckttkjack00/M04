{
 "cells": [
  {
   "cell_type": "code",
   "execution_count": 33,
   "id": "d6df228c-6bc8-4628-bd58-cbf61e61f241",
   "metadata": {},
   "outputs": [
    {
     "data": {
      "text/plain": [
       "11.1"
      ]
     },
     "execution_count": 33,
     "metadata": {},
     "output_type": "execute_result"
    }
   ],
   "source": [
    "11.1"
   ]
  },
  {
   "cell_type": "code",
   "execution_count": 34,
   "id": "fe5c216c-fad3-4ef7-8e03-c43f6b8dbdf9",
   "metadata": {},
   "outputs": [],
   "source": [
    "def hours():\n",
    "    print(\"Open 9-5 daily\")"
   ]
  },
  {
   "cell_type": "code",
   "execution_count": 35,
   "id": "6e93058e-0322-4c04-a0d1-619517ecd4bc",
   "metadata": {},
   "outputs": [
    {
     "name": "stdout",
     "output_type": "stream",
     "text": [
      "Open 9 - 5 daily\n"
     ]
    }
   ],
   "source": [
    "import zoo\n",
    "zoo.hours()"
   ]
  },
  {
   "cell_type": "code",
   "execution_count": 36,
   "id": "844caf90-bee2-4b56-846d-f4c29df978c1",
   "metadata": {},
   "outputs": [
    {
     "data": {
      "text/plain": [
       "11.2"
      ]
     },
     "execution_count": 36,
     "metadata": {},
     "output_type": "execute_result"
    }
   ],
   "source": [
    "11.2"
   ]
  },
  {
   "cell_type": "code",
   "execution_count": 37,
   "id": "b65d9426-1c28-4131-9500-0694e4608b88",
   "metadata": {},
   "outputs": [
    {
     "name": "stdout",
     "output_type": "stream",
     "text": [
      "Open 9 - 5 daily\n"
     ]
    }
   ],
   "source": [
    "import zoo as menagerie\n",
    "menagerie.hours()"
   ]
  },
  {
   "cell_type": "code",
   "execution_count": null,
   "id": "a41a27f3-b109-46f3-bb18-8eb8cdef65b6",
   "metadata": {},
   "outputs": [],
   "source": [
    "16.8"
   ]
  },
  {
   "cell_type": "code",
   "execution_count": null,
   "id": "af32b2ba-ae83-4aec-ab0f-2dc5fdeafbd4",
   "metadata": {},
   "outputs": [],
   "source": []
  }
 ],
 "metadata": {
  "kernelspec": {
   "display_name": "Python 3 (ipykernel)",
   "language": "python",
   "name": "python3"
  },
  "language_info": {
   "codemirror_mode": {
    "name": "ipython",
    "version": 3
   },
   "file_extension": ".py",
   "mimetype": "text/x-python",
   "name": "python",
   "nbconvert_exporter": "python",
   "pygments_lexer": "ipython3",
   "version": "3.12.4"
  }
 },
 "nbformat": 4,
 "nbformat_minor": 5
}
